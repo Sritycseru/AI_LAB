{
  "nbformat": 4,
  "nbformat_minor": 0,
  "metadata": {
    "colab": {
      "provenance": []
    },
    "kernelspec": {
      "name": "python3",
      "display_name": "Python 3"
    },
    "language_info": {
      "name": "python"
    }
  },
  "cells": [
    {
      "cell_type": "markdown",
      "source": [
        "## **1. Build a CNN which exactly looks like VGG16. Transfer weights of pre-trained VGG16 to the newly built VGG16.**"
      ],
      "metadata": {
        "id": "pKQ9Az-DFoVr"
      }
    },
    {
      "cell_type": "markdown",
      "source": [
        "## **Import necessary Module**"
      ],
      "metadata": {
        "id": "HoRqHZynFxA1"
      }
    },
    {
      "cell_type": "code",
      "execution_count": 10,
      "metadata": {
        "id": "BgafkZgaJS_F"
      },
      "outputs": [],
      "source": [
        "from tensorflow.keras.layers import Input,Dense,Activation,Conv2D,MaxPooling2D,Flatten\n",
        "from tensorflow.keras.applications import vgg16\n",
        "from tensorflow.keras.models import Model\n",
        "from tensorflow.keras.utils import plot_model"
      ]
    },
    {
      "cell_type": "markdown",
      "source": [
        "## **vgg16 Model Create**"
      ],
      "metadata": {
        "id": "djmPUTTrFmnh"
      }
    },
    {
      "cell_type": "code",
      "source": [
        "vgg16_model=vgg16.VGG16()\n",
        "vgg16_model.summary()"
      ],
      "metadata": {
        "colab": {
          "base_uri": "https://localhost:8080/"
        },
        "id": "_zur5p5mJ2k1",
        "outputId": "01bd93f7-c3a6-4d31-a9a0-48c1b674fa35"
      },
      "execution_count": 11,
      "outputs": [
        {
          "output_type": "stream",
          "name": "stdout",
          "text": [
            "Model: \"vgg16\"\n",
            "_________________________________________________________________\n",
            " Layer (type)                Output Shape              Param #   \n",
            "=================================================================\n",
            " input_5 (InputLayer)        [(None, 224, 224, 3)]     0         \n",
            "                                                                 \n",
            " block1_conv1 (Conv2D)       (None, 224, 224, 64)      1792      \n",
            "                                                                 \n",
            " block1_conv2 (Conv2D)       (None, 224, 224, 64)      36928     \n",
            "                                                                 \n",
            " block1_pool (MaxPooling2D)  (None, 112, 112, 64)      0         \n",
            "                                                                 \n",
            " block2_conv1 (Conv2D)       (None, 112, 112, 128)     73856     \n",
            "                                                                 \n",
            " block2_conv2 (Conv2D)       (None, 112, 112, 128)     147584    \n",
            "                                                                 \n",
            " block2_pool (MaxPooling2D)  (None, 56, 56, 128)       0         \n",
            "                                                                 \n",
            " block3_conv1 (Conv2D)       (None, 56, 56, 256)       295168    \n",
            "                                                                 \n",
            " block3_conv2 (Conv2D)       (None, 56, 56, 256)       590080    \n",
            "                                                                 \n",
            " block3_conv3 (Conv2D)       (None, 56, 56, 256)       590080    \n",
            "                                                                 \n",
            " block3_pool (MaxPooling2D)  (None, 28, 28, 256)       0         \n",
            "                                                                 \n",
            " block4_conv1 (Conv2D)       (None, 28, 28, 512)       1180160   \n",
            "                                                                 \n",
            " block4_conv2 (Conv2D)       (None, 28, 28, 512)       2359808   \n",
            "                                                                 \n",
            " block4_conv3 (Conv2D)       (None, 28, 28, 512)       2359808   \n",
            "                                                                 \n",
            " block4_pool (MaxPooling2D)  (None, 14, 14, 512)       0         \n",
            "                                                                 \n",
            " block5_conv1 (Conv2D)       (None, 14, 14, 512)       2359808   \n",
            "                                                                 \n",
            " block5_conv2 (Conv2D)       (None, 14, 14, 512)       2359808   \n",
            "                                                                 \n",
            " block5_conv3 (Conv2D)       (None, 14, 14, 512)       2359808   \n",
            "                                                                 \n",
            " block5_pool (MaxPooling2D)  (None, 7, 7, 512)         0         \n",
            "                                                                 \n",
            " flatten (Flatten)           (None, 25088)             0         \n",
            "                                                                 \n",
            " fc1 (Dense)                 (None, 4096)              102764544 \n",
            "                                                                 \n",
            " fc2 (Dense)                 (None, 4096)              16781312  \n",
            "                                                                 \n",
            " predictions (Dense)         (None, 1000)              4097000   \n",
            "                                                                 \n",
            "=================================================================\n",
            "Total params: 138357544 (527.79 MB)\n",
            "Trainable params: 138357544 (527.79 MB)\n",
            "Non-trainable params: 0 (0.00 Byte)\n",
            "_________________________________________________________________\n"
          ]
        }
      ]
    },
    {
      "cell_type": "markdown",
      "source": [
        "## **Build a CNN which exactly looks like VGG16**"
      ],
      "metadata": {
        "id": "KqemI4EBIEW8"
      }
    },
    {
      "cell_type": "code",
      "source": [
        "inputs = Input((224, 224, 3,))\n",
        "x = Conv2D(filters = 64, kernel_size=(3,3), padding = 'same', activation='relu')(inputs)\n",
        "x = Conv2D(filters = 64, kernel_size=(3,3), padding = 'same', activation='relu')(x)\n",
        "x = MaxPooling2D()(x)\n",
        "\n",
        "x = Conv2D(filters = 128, kernel_size=(3,5), padding = 'same', activation='relu')(x)\n",
        "x = Conv2D(filters = 128, kernel_size=(3,5), padding = 'same', activation='relu')(x)\n",
        "x = MaxPooling2D()(x)\n",
        "\n",
        "x = Conv2D(filters = 256, kernel_size=(3,5), padding = 'same', activation='relu')(x)\n",
        "x = Conv2D(filters = 256, kernel_size=(3,5), padding = 'same', activation='relu')(x)\n",
        "x = Conv2D(filters = 256, kernel_size=(3,5), padding = 'same', activation='relu')(x)\n",
        "x = MaxPooling2D()(x)\n",
        "\n",
        "x = Conv2D(filters = 512, kernel_size=(3,5), padding = 'same', activation='relu')(x)\n",
        "x = Conv2D(filters = 512, kernel_size=(3,5), padding = 'same', activation='relu')(x)\n",
        "x = Conv2D(filters = 512, kernel_size=(3,5), padding = 'same', activation='relu')(x)\n",
        "x = MaxPooling2D()(x)\n",
        "\n",
        "x = Conv2D(filters = 512, kernel_size=(3,5), padding = 'same', activation='relu')(x)\n",
        "x = Conv2D(filters = 512, kernel_size=(3,5), padding = 'same', activation='relu')(x)\n",
        "x = Conv2D(filters = 512, kernel_size=(3,5), padding = 'same', activation='relu')(x)\n",
        "x = MaxPooling2D()(x)\n",
        "\n",
        "x = Flatten()(x)\n",
        "x = Dense(4096, activation='relu')(x)\n",
        "x = Dense(4096, activation='relu')(x)\n",
        "\n",
        "outputs = Dense(1000, name='output', activation='sigmoid')(x)\n",
        "model = Model(inputs, outputs)\n",
        "model.summary()\n"
      ],
      "metadata": {
        "colab": {
          "base_uri": "https://localhost:8080/"
        },
        "id": "6cZ0g9gAICv_",
        "outputId": "9f42e2b1-22c8-4542-9c83-51cf1100c6f3"
      },
      "execution_count": 12,
      "outputs": [
        {
          "output_type": "stream",
          "name": "stdout",
          "text": [
            "Model: \"model_2\"\n",
            "_________________________________________________________________\n",
            " Layer (type)                Output Shape              Param #   \n",
            "=================================================================\n",
            " input_6 (InputLayer)        [(None, 224, 224, 3)]     0         \n",
            "                                                                 \n",
            " conv2d_26 (Conv2D)          (None, 224, 224, 64)      1792      \n",
            "                                                                 \n",
            " conv2d_27 (Conv2D)          (None, 224, 224, 64)      36928     \n",
            "                                                                 \n",
            " max_pooling2d_10 (MaxPooli  (None, 112, 112, 64)      0         \n",
            " ng2D)                                                           \n",
            "                                                                 \n",
            " conv2d_28 (Conv2D)          (None, 112, 112, 128)     123008    \n",
            "                                                                 \n",
            " conv2d_29 (Conv2D)          (None, 112, 112, 128)     245888    \n",
            "                                                                 \n",
            " max_pooling2d_11 (MaxPooli  (None, 56, 56, 128)       0         \n",
            " ng2D)                                                           \n",
            "                                                                 \n",
            " conv2d_30 (Conv2D)          (None, 56, 56, 256)       491776    \n",
            "                                                                 \n",
            " conv2d_31 (Conv2D)          (None, 56, 56, 256)       983296    \n",
            "                                                                 \n",
            " conv2d_32 (Conv2D)          (None, 56, 56, 256)       983296    \n",
            "                                                                 \n",
            " max_pooling2d_12 (MaxPooli  (None, 28, 28, 256)       0         \n",
            " ng2D)                                                           \n",
            "                                                                 \n",
            " conv2d_33 (Conv2D)          (None, 28, 28, 512)       1966592   \n",
            "                                                                 \n",
            " conv2d_34 (Conv2D)          (None, 28, 28, 512)       3932672   \n",
            "                                                                 \n",
            " conv2d_35 (Conv2D)          (None, 28, 28, 512)       3932672   \n",
            "                                                                 \n",
            " max_pooling2d_13 (MaxPooli  (None, 14, 14, 512)       0         \n",
            " ng2D)                                                           \n",
            "                                                                 \n",
            " conv2d_36 (Conv2D)          (None, 14, 14, 512)       3932672   \n",
            "                                                                 \n",
            " conv2d_37 (Conv2D)          (None, 14, 14, 512)       3932672   \n",
            "                                                                 \n",
            " conv2d_38 (Conv2D)          (None, 14, 14, 512)       3932672   \n",
            "                                                                 \n",
            " max_pooling2d_14 (MaxPooli  (None, 7, 7, 512)         0         \n",
            " ng2D)                                                           \n",
            "                                                                 \n",
            " flatten_2 (Flatten)         (None, 25088)             0         \n",
            "                                                                 \n",
            " dense_4 (Dense)             (None, 4096)              102764544 \n",
            "                                                                 \n",
            " dense_5 (Dense)             (None, 4096)              16781312  \n",
            "                                                                 \n",
            " output (Dense)              (None, 1000)              4097000   \n",
            "                                                                 \n",
            "=================================================================\n",
            "Total params: 148138792 (565.10 MB)\n",
            "Trainable params: 148138792 (565.10 MB)\n",
            "Non-trainable params: 0 (0.00 Byte)\n",
            "_________________________________________________________________\n"
          ]
        }
      ]
    },
    {
      "cell_type": "markdown",
      "source": [
        "## **Transfer weights of pre-trained VGG16 to the newly built VGG16.**"
      ],
      "metadata": {
        "id": "L70qA3beKTM2"
      }
    },
    {
      "cell_type": "code",
      "source": [
        "for i in range(len(model.layers)):\n",
        "  model.layers[i].set_weights(model.layers[i].get_weights())\n",
        "model.weights[:1]"
      ],
      "metadata": {
        "colab": {
          "base_uri": "https://localhost:8080/"
        },
        "id": "c0Y1s6cWKgtW",
        "outputId": "bed66a70-f797-490c-ef23-0b9581c5d358"
      },
      "execution_count": 19,
      "outputs": [
        {
          "output_type": "execute_result",
          "data": {
            "text/plain": [
              "[<tf.Variable 'conv2d_26/kernel:0' shape=(3, 3, 3, 64) dtype=float32, numpy=\n",
              " array([[[[ 4.29470569e-01,  1.17273867e-01,  3.40129584e-02, ...,\n",
              "           -1.32241577e-01, -5.33475243e-02,  7.57738389e-03],\n",
              "          [ 5.50379455e-01,  2.08774377e-02,  9.88311544e-02, ...,\n",
              "           -8.48205537e-02, -5.11389151e-02,  3.74943428e-02],\n",
              "          [ 4.80015397e-01, -1.72696680e-01,  3.75577137e-02, ...,\n",
              "           -1.27135560e-01, -5.02991639e-02,  3.48965675e-02]],\n",
              " \n",
              "         [[ 3.73466998e-01,  1.62062630e-01,  1.70863140e-03, ...,\n",
              "           -1.48207128e-01, -2.35300660e-01, -6.30356818e-02],\n",
              "          [ 4.40074533e-01,  4.73412387e-02,  5.13819456e-02, ...,\n",
              "           -9.88498852e-02, -2.96195745e-01, -7.04357103e-02],\n",
              "          [ 4.08547401e-01, -1.70375049e-01, -4.96297423e-03, ...,\n",
              "           -1.22360572e-01, -2.76450396e-01, -3.90796512e-02]],\n",
              " \n",
              "         [[-6.13601133e-02,  1.35693997e-01, -1.15694344e-01, ...,\n",
              "           -1.40158370e-01, -3.77666801e-01, -3.00509870e-01],\n",
              "          [-8.13870355e-02,  4.18543853e-02, -1.01763301e-01, ...,\n",
              "           -9.43124294e-02, -5.05662560e-01, -3.83694321e-01],\n",
              "          [-6.51455522e-02, -1.54351532e-01, -1.38038069e-01, ...,\n",
              "           -1.29404560e-01, -4.62243795e-01, -3.23985279e-01]]],\n",
              " \n",
              " \n",
              "        [[[ 2.74769872e-01,  1.48350164e-01,  1.61559835e-01, ...,\n",
              "           -1.14316158e-01,  3.65494519e-01,  3.39938998e-01],\n",
              "          [ 3.45739067e-01,  3.10493708e-02,  2.40750551e-01, ...,\n",
              "           -6.93419054e-02,  4.37116861e-01,  4.13171440e-01],\n",
              "          [ 3.10477257e-01, -1.87601492e-01,  1.66595340e-01, ...,\n",
              "           -9.88388434e-02,  4.04058546e-01,  3.92561197e-01]],\n",
              " \n",
              "         [[ 3.86807770e-02,  2.02298447e-01,  1.56414255e-01, ...,\n",
              "           -5.20089604e-02,  2.57149011e-01,  3.71682674e-01],\n",
              "          [ 4.06322069e-02,  6.58102185e-02,  2.20311403e-01, ...,\n",
              "           -3.78979952e-03,  2.69412428e-01,  4.09505904e-01],\n",
              "          [ 5.02023660e-02, -1.77571565e-01,  1.51188180e-01, ...,\n",
              "           -1.40649760e-02,  2.59300828e-01,  4.23764467e-01]],\n",
              " \n",
              "         [[-3.67223352e-01,  1.61688417e-01, -8.99365395e-02, ...,\n",
              "           -1.45945460e-01, -2.71823555e-01, -2.39718184e-01],\n",
              "          [-4.53501314e-01,  4.62574959e-02, -6.67438358e-02, ...,\n",
              "           -1.03502415e-01, -3.45792353e-01, -2.92486250e-01],\n",
              "          [-4.03383434e-01, -1.74399972e-01, -1.09849639e-01, ...,\n",
              "           -1.25688612e-01, -3.14026326e-01, -2.32839763e-01]]],\n",
              " \n",
              " \n",
              "        [[[-5.74681684e-02,  1.29344285e-01,  1.29030216e-02, ...,\n",
              "           -1.41449392e-01,  2.41099641e-01,  4.55602147e-02],\n",
              "          [-5.86349145e-02,  3.16787697e-02,  7.59588331e-02, ...,\n",
              "           -1.05017252e-01,  3.39550197e-01,  9.86374393e-02],\n",
              "          [-5.08716851e-02, -1.66002661e-01,  1.56279504e-02, ...,\n",
              "           -1.49742723e-01,  3.06801915e-01,  8.82701725e-02]],\n",
              " \n",
              "         [[-2.62249678e-01,  1.71572417e-01,  5.44555223e-05, ...,\n",
              "           -1.22728683e-01,  2.44687453e-01,  5.32913655e-02],\n",
              "          [-3.30669671e-01,  5.47101051e-02,  4.86797579e-02, ...,\n",
              "           -8.29023942e-02,  2.95466095e-01,  7.44469985e-02],\n",
              "          [-2.85227507e-01, -1.66666731e-01, -7.96697661e-03, ...,\n",
              "           -1.09780088e-01,  2.79203743e-01,  9.46525261e-02]],\n",
              " \n",
              "         [[-3.50096762e-01,  1.38710454e-01, -1.25339806e-01, ...,\n",
              "           -1.53092295e-01, -1.39917329e-01, -2.65075237e-01],\n",
              "          [-4.85030204e-01,  4.23195846e-02, -1.12076312e-01, ...,\n",
              "           -1.18306056e-01, -1.67058021e-01, -3.22241962e-01],\n",
              "          [-4.18516338e-01, -1.57048807e-01, -1.49133086e-01, ...,\n",
              "           -1.56839803e-01, -1.42874300e-01, -2.69694626e-01]]]],\n",
              "       dtype=float32)>]"
            ]
          },
          "metadata": {},
          "execution_count": 19
        }
      ]
    },
    {
      "cell_type": "markdown",
      "source": [
        "## **2. Build a CNN which will look like VGG16,but will not be exactly VGG16**"
      ],
      "metadata": {
        "id": "V9Jq0kVLLz3J"
      }
    },
    {
      "cell_type": "code",
      "source": [
        "from tensorflow.keras.layers import Input, Conv2D, MaxPooling2D, Flatten, Dense\n",
        "from tensorflow.keras.models import Model\n",
        "\n",
        "inputs = Input((512, 512, 3,))\n",
        "x = Conv2D(filters=128, kernel_size=(5, 5), padding='same', activation='relu')(inputs)\n",
        "x = Conv2D(filters=128, kernel_size=(5, 5), padding='same', activation='relu')(x)\n",
        "x = MaxPooling2D()(x)\n",
        "\n",
        "x = Conv2D(filters=256, kernel_size=(5, 5), padding='same', activation='relu')(x)\n",
        "x = Conv2D(filters=256, kernel_size=(5, 5), padding='same', activation='relu')(x)\n",
        "x = MaxPooling2D()(x)\n",
        "\n",
        "x = Conv2D(filters=512, kernel_size=(5, 5), padding='same', activation='relu')(x)\n",
        "x = Conv2D(filters=512, kernel_size=(5, 5), padding='same', activation='relu')(x)\n",
        "x = Conv2D(filters=512, kernel_size=(5, 5), padding='same', activation='relu')(x)\n",
        "x = MaxPooling2D()(x)\n",
        "\n",
        "x = Conv2D(filters=1024, kernel_size=(5, 5), padding='same', activation='relu')(x)\n",
        "x = Conv2D(filters=1024, kernel_size=(5, 5), padding='same', activation='relu')(x)\n",
        "x = Conv2D(filters=1024, kernel_size=(5, 5), padding='same', activation='relu')(x)\n",
        "x = MaxPooling2D()(x)\n",
        "\n",
        "x = Conv2D(filters=1024, kernel_size=(5, 5), padding='same', activation='relu')(x)\n",
        "x = Conv2D(filters=1024, kernel_size=(5, 5), padding='same', activation='relu')(x)\n",
        "x = Conv2D(filters=1024, kernel_size=(5, 5), padding='same', activation='relu')(x)\n",
        "x = MaxPooling2D()(x)\n",
        "\n",
        "x = Flatten()(x)\n",
        "x = Dense(512, activation='relu')(x)\n",
        "x = Dense(1024, activation='relu')(x)\n",
        "\n",
        "outputs = Dense(500, name='output', activation='sigmoid')(x)\n",
        "model = Model(inputs, outputs)\n",
        "model.summary()\n"
      ],
      "metadata": {
        "colab": {
          "base_uri": "https://localhost:8080/"
        },
        "id": "n5ZZOFS5L-SR",
        "outputId": "f7756e0a-425f-43f6-8693-e4e605b6f2fe"
      },
      "execution_count": 1,
      "outputs": [
        {
          "output_type": "stream",
          "name": "stdout",
          "text": [
            "Model: \"model\"\n",
            "_________________________________________________________________\n",
            " Layer (type)                Output Shape              Param #   \n",
            "=================================================================\n",
            " input_1 (InputLayer)        [(None, 512, 512, 3)]     0         \n",
            "                                                                 \n",
            " conv2d (Conv2D)             (None, 512, 512, 128)     9728      \n",
            "                                                                 \n",
            " conv2d_1 (Conv2D)           (None, 512, 512, 128)     409728    \n",
            "                                                                 \n",
            " max_pooling2d (MaxPooling2  (None, 256, 256, 128)     0         \n",
            " D)                                                              \n",
            "                                                                 \n",
            " conv2d_2 (Conv2D)           (None, 256, 256, 256)     819456    \n",
            "                                                                 \n",
            " conv2d_3 (Conv2D)           (None, 256, 256, 256)     1638656   \n",
            "                                                                 \n",
            " max_pooling2d_1 (MaxPoolin  (None, 128, 128, 256)     0         \n",
            " g2D)                                                            \n",
            "                                                                 \n",
            " conv2d_4 (Conv2D)           (None, 128, 128, 512)     3277312   \n",
            "                                                                 \n",
            " conv2d_5 (Conv2D)           (None, 128, 128, 512)     6554112   \n",
            "                                                                 \n",
            " conv2d_6 (Conv2D)           (None, 128, 128, 512)     6554112   \n",
            "                                                                 \n",
            " max_pooling2d_2 (MaxPoolin  (None, 64, 64, 512)       0         \n",
            " g2D)                                                            \n",
            "                                                                 \n",
            " conv2d_7 (Conv2D)           (None, 64, 64, 1024)      13108224  \n",
            "                                                                 \n",
            " conv2d_8 (Conv2D)           (None, 64, 64, 1024)      26215424  \n",
            "                                                                 \n",
            " conv2d_9 (Conv2D)           (None, 64, 64, 1024)      26215424  \n",
            "                                                                 \n",
            " max_pooling2d_3 (MaxPoolin  (None, 32, 32, 1024)      0         \n",
            " g2D)                                                            \n",
            "                                                                 \n",
            " conv2d_10 (Conv2D)          (None, 32, 32, 1024)      26215424  \n",
            "                                                                 \n",
            " conv2d_11 (Conv2D)          (None, 32, 32, 1024)      26215424  \n",
            "                                                                 \n",
            " conv2d_12 (Conv2D)          (None, 32, 32, 1024)      26215424  \n",
            "                                                                 \n",
            " max_pooling2d_4 (MaxPoolin  (None, 16, 16, 1024)      0         \n",
            " g2D)                                                            \n",
            "                                                                 \n",
            " flatten (Flatten)           (None, 262144)            0         \n",
            "                                                                 \n",
            " dense (Dense)               (None, 512)               134218240 \n",
            "                                                                 \n",
            " dense_1 (Dense)             (None, 1024)              525312    \n",
            "                                                                 \n",
            " output (Dense)              (None, 500)               512500    \n",
            "                                                                 \n",
            "=================================================================\n",
            "Total params: 298704500 (1.11 GB)\n",
            "Trainable params: 298704500 (1.11 GB)\n",
            "Non-trainable params: 0 (0.00 Byte)\n",
            "_________________________________________________________________\n"
          ]
        }
      ]
    },
    {
      "cell_type": "code",
      "source": [],
      "metadata": {
        "id": "uK2_w66FMGlV"
      },
      "execution_count": null,
      "outputs": []
    }
  ]
}